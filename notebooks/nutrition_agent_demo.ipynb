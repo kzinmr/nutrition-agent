{
 "cells": [
  {
   "cell_type": "markdown",
   "metadata": {},
   "source": [
    "# Nutrition Agent Demo 🥗🤖\n",
    "\n",
    "This notebook demonstrates the Nutrition Agent capabilities with interactive examples and evaluation results."
   ]
  },
  {
   "cell_type": "markdown",
   "metadata": {},
   "source": [
    "## Setup and Imports"
   ]
  },
  {
   "cell_type": "code",
   "execution_count": null,
   "metadata": {},
   "outputs": [],
   "source": [
    "import sys\n",
    "\n",
    "sys.path.append(\"..\")\n",
    "\n",
    "import json\n",
    "from pathlib import Path\n",
    "\n",
    "# Jupyter async support\n",
    "import nest_asyncio\n",
    "\n",
    "from agents.base_agent import AgentConfig, ModelProvider\n",
    "from agents.nutrition_planner import (\n",
    "    DietaryConstraints,\n",
    "    Inventory,\n",
    "    NutritionPlannerAgent,\n",
    ")\n",
    "from evaluators.nutrition_evaluator import NutritionEvaluator\n",
    "\n",
    "nest_asyncio.apply()"
   ]
  },
  {
   "cell_type": "markdown",
   "metadata": {},
   "source": [
    "## Example 1: Basic Meal Planning\n",
    "\n",
    "Let's create a simple meal plan with basic ingredients."
   ]
  },
  {
   "cell_type": "code",
   "execution_count": null,
   "metadata": {},
   "outputs": [],
   "source": [
    "# Define available ingredients\n",
    "inventory = Inventory(\n",
    "    items=[\n",
    "        {\"name\": \"chicken_breast\", \"amount_g\": 400, \"unit\": \"g\"},\n",
    "        {\"name\": \"eggs\", \"amount_g\": 360, \"unit\": \"g\"},\n",
    "        {\"name\": \"milk\", \"amount_g\": 500, \"unit\": \"ml\"},\n",
    "        {\"name\": \"white_rice\", \"amount_g\": 300, \"unit\": \"g\"},\n",
    "        {\"name\": \"lettuce\", \"amount_g\": 200, \"unit\": \"g\"},\n",
    "    ]\n",
    ")\n",
    "\n",
    "# Define dietary constraints\n",
    "constraints = DietaryConstraints(\n",
    "    daily_calories=2000.0,\n",
    "    pfc_ratio=(30.0, 25.0, 45.0),  # 30% protein, 25% fat, 45% carbs\n",
    "    allergens=None,\n",
    "    dietary_restrictions=None,\n",
    ")\n",
    "\n",
    "print(\"🥘 Inventory:\")\n",
    "for item in inventory.items:\n",
    "    print(f\"  • {item['name']}: {item['amount_g']}{item['unit']}\")\n",
    "\n",
    "print(\"\\n🎯 Targets:\")\n",
    "print(f\"  • Daily calories: {constraints.daily_calories} kcal\")\n",
    "print(\n",
    "    f\"  • PFC ratio: {constraints.pfc_ratio[0]}% / {constraints.pfc_ratio[1]}% / {constraints.pfc_ratio[2]}%\"\n",
    ")"
   ]
  },
  {
   "cell_type": "code",
   "execution_count": null,
   "metadata": {},
   "outputs": [],
   "source": [
    "# Create agent with GPT-4o\n",
    "config = AgentConfig(\n",
    "    model_provider=ModelProvider.OPENAI, model_name=\"gpt-4o\", temperature=0.7\n",
    ")\n",
    "\n",
    "agent = NutritionPlannerAgent(config)\n",
    "\n",
    "# Generate meal plan\n",
    "print(\"🤖 Generating 3-day meal plan...\")\n",
    "meal_plans = await agent.generate_meal_plan(inventory, constraints, days=3)\n",
    "\n",
    "# Display results\n",
    "agent.display_meal_plans(meal_plans)"
   ]
  },
  {
   "cell_type": "code",
   "execution_count": null,
   "metadata": {},
   "outputs": [],
   "source": [
    "# Generate shopping list\n",
    "shopping_list = agent.generate_shopping_list(meal_plans)\n",
    "agent.display_shopping_list(shopping_list)"
   ]
  },
  {
   "cell_type": "markdown",
   "metadata": {},
   "source": [
    "## Example 2: Vegetarian Meal Planning\n",
    "\n",
    "Let's try a vegetarian scenario with plant-based proteins."
   ]
  },
  {
   "cell_type": "code",
   "execution_count": null,
   "metadata": {},
   "outputs": [],
   "source": [
    "# Load vegetarian test scenario\n",
    "with open(\"../data/test_prompts/t2.json\") as f:\n",
    "    vegetarian_scenario = json.load(f)\n",
    "\n",
    "veg_inventory = Inventory(items=vegetarian_scenario[\"inventory\"])\n",
    "veg_constraints = DietaryConstraints(**vegetarian_scenario[\"constraints\"])\n",
    "\n",
    "print(\"🌱 Vegetarian Scenario:\")\n",
    "print(f\"Description: {vegetarian_scenario['description']}\")\n",
    "print(f\"Notes: {vegetarian_scenario['notes']}\")\n",
    "\n",
    "# Generate vegetarian meal plan\n",
    "veg_meal_plans = await agent.generate_meal_plan(veg_inventory, veg_constraints, days=3)\n",
    "agent.display_meal_plans(veg_meal_plans[:1])  # Show first day only for brevity"
   ]
  },
  {
   "cell_type": "markdown",
   "metadata": {},
   "source": [
    "## Example 3: Model Comparison\n",
    "\n",
    "Compare performance across different models."
   ]
  },
  {
   "cell_type": "code",
   "execution_count": null,
   "metadata": {},
   "outputs": [],
   "source": [
    "# Test different models\n",
    "models_to_test = [\n",
    "    (\"GPT-4o\", AgentConfig(ModelProvider.OPENAI, \"gpt-4o\", 0.7)),\n",
    "    (\"GPT-3.5-turbo\", AgentConfig(ModelProvider.OPENAI, \"gpt-3.5-turbo\", 0.7)),\n",
    "]\n",
    "\n",
    "comparison_results = []\n",
    "\n",
    "for model_name, model_config in models_to_test:\n",
    "    print(f\"\\n🔍 Testing {model_name}...\")\n",
    "\n",
    "    try:\n",
    "        test_agent = NutritionPlannerAgent(model_config)\n",
    "        test_plans = await test_agent.generate_meal_plan(inventory, constraints, days=1)\n",
    "\n",
    "        # Simple performance metrics\n",
    "        daily_nutrition = test_plans[0].daily_nutrition\n",
    "        calories_error = (\n",
    "            abs(daily_nutrition[\"total_calories\"] - constraints.daily_calories)\n",
    "            / constraints.daily_calories\n",
    "            * 100\n",
    "        )\n",
    "\n",
    "        comparison_results.append(\n",
    "            {\n",
    "                \"model\": model_name,\n",
    "                \"calories\": daily_nutrition[\"total_calories\"],\n",
    "                \"calories_error\": calories_error,\n",
    "                \"missing_ingredients\": len(test_plans[0].missing_ingredients),\n",
    "            }\n",
    "        )\n",
    "\n",
    "        print(\n",
    "            f\"  ✅ Calories: {daily_nutrition['total_calories']:.0f} (error: {calories_error:.1f}%)\"\n",
    "        )\n",
    "        print(f\"  📝 Missing ingredients: {len(test_plans[0].missing_ingredients)}\")\n",
    "\n",
    "    except Exception as e:\n",
    "        print(f\"  ❌ Error: {e}\")\n",
    "        comparison_results.append({\"model\": model_name, \"error\": str(e)})"
   ]
  },
  {
   "cell_type": "markdown",
   "metadata": {},
   "source": [
    "## Example 4: Evaluation System Demo\n",
    "\n",
    "Demonstrate the automated evaluation system."
   ]
  },
  {
   "cell_type": "code",
   "execution_count": null,
   "metadata": {},
   "outputs": [],
   "source": [
    "# Create evaluator\n",
    "evaluator = NutritionEvaluator()\n",
    "\n",
    "# Load test scenario\n",
    "scenario_path = Path(\"../data/test_prompts/t1.json\")\n",
    "\n",
    "# Run evaluation\n",
    "print(\"📊 Running evaluation on T1 scenario...\")\n",
    "evaluation_result = await evaluator.evaluate_scenario(scenario_path, config, days=3)\n",
    "\n",
    "print(\"\\n📈 Evaluation Results:\")\n",
    "print(f\"Overall Score: {evaluation_result.score:.3f}/1.0\")\n",
    "print(f\"Nutrition Score: {evaluation_result.nutrition_score:.3f}/0.5\")\n",
    "print(f\"Shopping List Score: {evaluation_result.shopping_list_score:.3f}/0.5\")\n",
    "print(f\"Jaccard Similarity: {evaluation_result.jaccard_similarity:.3f}\")\n",
    "print(f\"Execution Time: {evaluation_result.execution_time:.1f}s\")\n",
    "\n",
    "if evaluation_result.violations:\n",
    "    print(\"\\n⚠️ Violations:\")\n",
    "    for violation in evaluation_result.violations:\n",
    "        print(f\"  • {violation}\")\n",
    "\n",
    "if evaluation_result.nutrition_errors:\n",
    "    print(\"\\n🔍 Nutrition Errors:\")\n",
    "    for macro, error in evaluation_result.nutrition_errors.items():\n",
    "        print(f\"  • {macro}: {error:.1f}%\")"
   ]
  },
  {
   "cell_type": "markdown",
   "metadata": {},
   "source": [
    "## Example 5: Advanced Features Demo"
   ]
  },
  {
   "cell_type": "code",
   "execution_count": null,
   "metadata": {},
   "outputs": [],
   "source": [
    "# Demo with dietary restrictions and allergies\n",
    "advanced_constraints = DietaryConstraints(\n",
    "    daily_calories=1800.0,\n",
    "    pfc_ratio=(25.0, 30.0, 45.0),\n",
    "    allergens=[\"dairy\", \"nuts\"],\n",
    "    dietary_restrictions=[\"vegetarian\", \"low-sodium\"],\n",
    ")\n",
    "\n",
    "print(\"🚫 Advanced constraints:\")\n",
    "print(f\"  • Allergens: {', '.join(advanced_constraints.allergens)}\")\n",
    "print(f\"  • Restrictions: {', '.join(advanced_constraints.dietary_restrictions)}\")\n",
    "print(f\"  • Lower calories: {advanced_constraints.daily_calories} kcal\")\n",
    "print(f\"  • Higher fat ratio: {advanced_constraints.pfc_ratio[1]}%\")\n",
    "\n",
    "# Note: This would require actual LLM calls, so we'll simulate the expected behavior\n",
    "print(\"\\n💭 Expected agent behavior:\")\n",
    "print(\"  • Avoid dairy products (milk, cheese, butter)\")\n",
    "print(\"  • Avoid nuts and nut-based products\")\n",
    "print(\"  • Focus on plant-based proteins (tofu, legumes)\")\n",
    "print(\"  • Use herbs/spices instead of salt for flavoring\")\n",
    "print(\"  • Adjust portions for lower calorie target\")"
   ]
  },
  {
   "cell_type": "markdown",
   "metadata": {},
   "source": [
    "## Performance Analysis"
   ]
  },
  {
   "cell_type": "code",
   "execution_count": null,
   "metadata": {},
   "outputs": [],
   "source": [
    "import matplotlib.pyplot as plt\n",
    "import numpy as np\n",
    "\n",
    "# Sample performance data (would come from actual evaluation runs)\n",
    "models = [\"GPT-4o\", \"GPT-3.5-turbo\", \"Claude-3-Sonnet\"]\n",
    "nutrition_scores = [0.432, 0.378, 0.401]\n",
    "shopping_scores = [0.415, 0.345, 0.390]\n",
    "execution_times = [23.2, 8.7, 18.5]\n",
    "\n",
    "# Create comparison charts\n",
    "fig, ((ax1, ax2), (ax3, ax4)) = plt.subplots(2, 2, figsize=(12, 8))\n",
    "\n",
    "# Score comparison\n",
    "x = np.arange(len(models))\n",
    "width = 0.35\n",
    "\n",
    "ax1.bar(x - width / 2, nutrition_scores, width, label=\"Nutrition Score\", alpha=0.8)\n",
    "ax1.bar(x + width / 2, shopping_scores, width, label=\"Shopping Score\", alpha=0.8)\n",
    "ax1.set_xlabel(\"Models\")\n",
    "ax1.set_ylabel(\"Score\")\n",
    "ax1.set_title(\"Model Performance Comparison\")\n",
    "ax1.set_xticks(x)\n",
    "ax1.set_xticklabels(models)\n",
    "ax1.legend()\n",
    "ax1.set_ylim(0, 0.5)\n",
    "\n",
    "# Overall scores\n",
    "overall_scores = [\n",
    "    n + s for n, s in zip(nutrition_scores, shopping_scores, strict=False)\n",
    "]\n",
    "ax2.bar(models, overall_scores, color=[\"#1f77b4\", \"#ff7f0e\", \"#2ca02c\"], alpha=0.8)\n",
    "ax2.set_ylabel(\"Overall Score\")\n",
    "ax2.set_title(\"Overall Performance\")\n",
    "ax2.set_ylim(0, 1.0)\n",
    "\n",
    "# Execution time\n",
    "ax3.bar(models, execution_times, color=[\"#d62728\", \"#9467bd\", \"#8c564b\"], alpha=0.8)\n",
    "ax3.set_ylabel(\"Time (seconds)\")\n",
    "ax3.set_title(\"Execution Time\")\n",
    "\n",
    "# Cost-performance trade-off (hypothetical data)\n",
    "costs = [0.12, 0.03, 0.08]  # USD per run\n",
    "ax4.scatter(costs, overall_scores, s=100, alpha=0.7)\n",
    "for i, model in enumerate(models):\n",
    "    ax4.annotate(\n",
    "        model, (costs[i], overall_scores[i]), xytext=(5, 5), textcoords=\"offset points\"\n",
    "    )\n",
    "ax4.set_xlabel(\"Cost per run ($)\")\n",
    "ax4.set_ylabel(\"Overall Score\")\n",
    "ax4.set_title(\"Cost vs Performance\")\n",
    "\n",
    "plt.tight_layout()\n",
    "plt.show()\n",
    "\n",
    "# Print summary\n",
    "print(\"📊 Performance Summary:\")\n",
    "for i, model in enumerate(models):\n",
    "    print(f\"  {model}:\")\n",
    "    print(f\"    Overall Score: {overall_scores[i]:.3f}\")\n",
    "    print(f\"    Execution Time: {execution_times[i]}s\")\n",
    "    print(f\"    Cost Efficiency: {overall_scores[i] / costs[i]:.1f} score/$\")"
   ]
  },
  {
   "cell_type": "markdown",
   "metadata": {},
   "source": [
    "## Key Learnings and Next Steps\n",
    "\n",
    "### What Worked Well:\n",
    "1. **Tool-using agent pattern**: Clean separation of concerns with FatSecret API integration\n",
    "2. **Structured evaluation**: Automated scoring system enables objective model comparison\n",
    "3. **Rich CLI interface**: User-friendly interaction with comprehensive output formatting\n",
    "4. **Flexible architecture**: Easy to extend with new dietary constraints and evaluation metrics\n",
    "\n",
    "### Challenges Encountered:\n",
    "1. **API rate limiting**: Required careful request management and caching\n",
    "2. **Nutrition data consistency**: Different food databases have varying nutritional information\n",
    "3. **Response parsing**: LLM outputs needed robust validation and error handling\n",
    "4. **Evaluation complexity**: Balancing multiple objectives (nutrition, cost, variety) is non-trivial\n",
    "\n",
    "### Future Improvements:\n",
    "- **Multi-agent system**: Separate agents for planning, validation, and optimization\n",
    "- **Learning from feedback**: Adapt to user preferences over time\n",
    "- **Recipe generation**: Create novel recipes instead of just searching existing ones\n",
    "- **Seasonal awareness**: Factor in ingredient availability and seasonality\n",
    "- **Batch cooking optimization**: Consider meal prep and leftover management"
   ]
  }
 ],
 "metadata": {
  "kernelspec": {
   "display_name": "Python 3",
   "language": "python",
   "name": "python3"
  },
  "language_info": {
   "codemirror_mode": {
    "name": "ipython",
    "version": 3
   },
   "file_extension": ".py",
   "mimetype": "text/x-python",
   "name": "python",
   "nbconvert_exporter": "python",
   "pygments_lexer": "ipython3",
   "version": "3.9.0"
  }
 },
 "nbformat": 4,
 "nbformat_minor": 4
}